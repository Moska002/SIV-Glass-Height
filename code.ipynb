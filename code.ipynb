{
 "cells": [
  {
   "cell_type": "code",
   "execution_count": 42,
   "metadata": {},
   "outputs": [],
   "source": [
    "import numpy as np\n",
    "import cv2\n",
    "\n",
    "import glob\n",
    "\n",
    "from os import path as ospath"
   ]
  },
  {
   "cell_type": "markdown",
   "metadata": {},
   "source": [
    "CAMERA CALIBRATION FROM OPENCV SITE"
   ]
  },
  {
   "cell_type": "code",
   "execution_count": 43,
   "metadata": {},
   "outputs": [
    {
     "name": "stdout",
     "output_type": "stream",
     "text": [
      "images\\chess-0.jpg\n",
      "images\\chess-1.jpg\n",
      "images\\chess-10.jpg\n",
      "images\\chess-11.jpg\n",
      "images\\chess-2.jpg\n",
      "images\\chess-3.jpg\n",
      "images\\chess-4.jpg\n",
      "images\\chess-5.jpg\n",
      "images\\chess-6.jpg\n",
      "images\\chess-7.jpg\n",
      "images\\chess-8.jpg\n",
      "images\\chess-9.jpg\n"
     ]
    }
   ],
   "source": [
    "# termination criteria\n",
    "criteria = (cv2.TERM_CRITERIA_EPS + cv2.TERM_CRITERIA_MAX_ITER, 30, 0.001)\n",
    " \n",
    "# prepare object points, like (0,0,0), (1,0,0), (2,0,0) ....,(6,5,0)\n",
    "objp = np.zeros((6*7,3), np.float32)\n",
    "objp[:,:2] = np.mgrid[0:7,0:6].T.reshape(-1,2)\n",
    " \n",
    "# Arrays to store object points and image points from all the images.\n",
    "objpoints = [] # 3d point in real world space\n",
    "imgpoints = [] # 2d points in image plane.\n",
    " \n",
    "images = glob.glob('images/chess-*.jpg')\n",
    " \n",
    "for fname in images:\n",
    "    img = cv2.imread(fname)\n",
    "    gray = cv2.cvtColor(img, cv2.COLOR_BGR2GRAY)\n",
    " \n",
    "    # Find the chess board corners\n",
    "    ret, corners = cv2.findChessboardCorners(gray, (7,6), None)\n",
    " \n",
    "    # If found, add object points, image points (after refining them)\n",
    "    if ret == True:\n",
    "        objpoints.append(objp)\n",
    " \n",
    "        corners2 = cv2.cornerSubPix(gray,corners, (11,11), (-1,-1), criteria)\n",
    "        imgpoints.append(corners2)\n",
    " \n",
    "        # Draw and display the corners\n",
    "        cv2.drawChessboardCorners(img, (7,6), corners2, ret)\n",
    "        cv2.imwrite(f'out/{ospath.basename(fname)}', img)\n"
   ]
  },
  {
   "cell_type": "code",
   "execution_count": 44,
   "metadata": {},
   "outputs": [],
   "source": [
    "ret, mtx, dist, rvecs, tvecs = cv2.calibrateCamera(objpoints, imgpoints, gray.shape[::-1], None, None)"
   ]
  },
  {
   "cell_type": "code",
   "execution_count": 45,
   "metadata": {},
   "outputs": [],
   "source": [
    "img = cv2.imread('images/chess-1.jpg')\n",
    "h, w = img.shape[:2]\n",
    "newcameramtx, roi = cv2.getOptimalNewCameraMatrix(mtx, dist, (w,h), 1, (w,h))"
   ]
  },
  {
   "cell_type": "code",
   "execution_count": 46,
   "metadata": {},
   "outputs": [
    {
     "data": {
      "text/plain": [
       "True"
      ]
     },
     "execution_count": 46,
     "metadata": {},
     "output_type": "execute_result"
    }
   ],
   "source": [
    "# undistort\n",
    "dst = cv2.undistort(img, mtx, dist, None, newcameramtx)\n",
    " \n",
    "# crop the image\n",
    "x, y, w, h = roi\n",
    "dst = dst[y:y+h, x:x+w]\n",
    "cv2.imwrite('calibresult.png', dst)"
   ]
  },
  {
   "cell_type": "markdown",
   "metadata": {},
   "source": [
    "HEIGHT CALCULATION"
   ]
  },
  {
   "cell_type": "code",
   "execution_count": 82,
   "metadata": {},
   "outputs": [
    {
     "name": "stdout",
     "output_type": "stream",
     "text": [
      "Altezza del liquido: 3.82 cm\n"
     ]
    }
   ],
   "source": [
    "def find_liquid_height(image, debug_name='out.jpg', glass_height_cm=10):\n",
    "    # Carica l'immagine\n",
    "    # image = cv2.imread(image_path)\n",
    "    # if image is None:\n",
    "    #     raise FileNotFoundError(f\"Immagine non trovata: {image_path}\")\n",
    "\n",
    "    # Ridimensiona immagine per facilitare l'elaborazione (opzionale)\n",
    "    scale_percent = 50  # riduci al 50% della dimensione originale\n",
    "    width = int(image.shape[1] * scale_percent / 100)\n",
    "    height = int(image.shape[0] * scale_percent / 100)\n",
    "    image = cv2.resize(image, (width, height))\n",
    "\n",
    "    # Converti in scala di grigi\n",
    "    gray = cv2.cvtColor(image, cv2.COLOR_BGR2GRAY)\n",
    "\n",
    "    gray = cv2.GaussianBlur(gray, (5, 5), 0)\n",
    "    # gray = cv2.GaussianBlur(gray, (7, 7), 0)\n",
    "\n",
    "    # Rileva i bordi con Sobel\n",
    "    grad_x = cv2.Sobel(gray, cv2.CV_64F, 1, 0, ksize=3)\n",
    "    grad_y = cv2.Sobel(gray, cv2.CV_64F, 0, 1, ksize=3)\n",
    "    gradient = cv2.magnitude(grad_x, grad_y)\n",
    "    _, glass_edges = cv2.threshold(np.uint8(gradient), 30, 255, cv2.THRESH_BINARY)\n",
    "    \n",
    "    # Applica operazioni morfologiche per rafforzare i bordi del bicchiere\n",
    "    kernel = cv2.getStructuringElement(cv2.MORPH_RECT, (5, 5))\n",
    "    glass_edges = cv2.morphologyEx(glass_edges, cv2.MORPH_CLOSE, kernel)\n",
    "    cv2.imwrite(f'out/glass-{debug_name}', glass_edges)\n",
    "\n",
    "    # Trova i contorni nella maschera del bicchiere\n",
    "    contours, _ = cv2.findContours(glass_edges, cv2.RETR_EXTERNAL, cv2.CHAIN_APPROX_SIMPLE)\n",
    "\n",
    "    # Trova il contorno più grande (supposto essere il bicchiere)\n",
    "    if len(contours) == 0:\n",
    "        raise ValueError(\"Bicchiere non rilevato.\")\n",
    "    glass_contour = max(contours, key=cv2.contourArea)\n",
    "\n",
    "    # Determina il rettangolo che contiene il bicchiere\n",
    "    x, y, w, h = cv2.boundingRect(glass_contour)\n",
    "\n",
    "    # Altezza del bicchiere in pixel\n",
    "    glass_height_px = h\n",
    "\n",
    "    # Ritaglia l'immagine per concentrarsi sul bicchiere\n",
    "    # roi = image[y:y+h, x:x+w]\n",
    "    roi_gray = gray[y:y+h, x:x+w]\n",
    "\n",
    "    # Rileva il liquido utilizzando soglia adattiva\n",
    "    # liquid_mask = cv2.adaptiveThreshold(roi_gray, 255, cv2.ADAPTIVE_THRESH_GAUSSIAN_C, cv2.THRESH_BINARY_INV, 11, 2)\n",
    "    # Usa la soglia di Otsu per segmentare il liquido\n",
    "    _, liquid_mask = cv2.threshold(roi_gray, 100, 255, cv2.THRESH_BINARY_INV + cv2.THRESH_OTSU)\n",
    "    cv2.imwrite(f'out/liquid-{debug_name}', liquid_mask)\n",
    "    # Trova i contorni del liquido\n",
    "    liquid_contours, _ = cv2.findContours(liquid_mask, cv2.RETR_EXTERNAL, cv2.CHAIN_APPROX_SIMPLE)\n",
    "    # Draw contours\n",
    "    drawing = np.zeros((liquid_mask.shape[0], liquid_mask.shape[1], 3), dtype=np.uint8)\n",
    "    for i in range(len(liquid_contours)):\n",
    "        color = (np.random.randint(0,256), np.random.randint(0,256), np.random.randint(0,256))\n",
    "        cv2.drawContours(drawing, liquid_contours, i, color, 2, cv2.LINE_8, 0)\n",
    "    # Show in a window\n",
    "    cv2.imwrite(f'out/c-liquid-{debug_name}', drawing)\n",
    "\n",
    "    # Trova il contorno del liquido (ipotizzando che sia il più grande nella ROI)\n",
    "    liquid_contour = max(liquid_contours, key=cv2.contourArea)\n",
    "\n",
    "    # Determina il rettangolo che contiene il liquido\n",
    "    _, liquid_y, _, liquid_h = cv2.boundingRect(liquid_contour)\n",
    "\n",
    "    # Altezza del liquido in pixel\n",
    "    liquid_height_px = liquid_h\n",
    "\n",
    "    # Calcola il rapporto pixel/cm\n",
    "    px_per_cm = glass_height_px / glass_height_cm\n",
    "\n",
    "    # Altezza del liquido in cm\n",
    "    liquid_height_cm = liquid_height_px / px_per_cm\n",
    "\n",
    "    # Disegna i contorni per il debug\n",
    "    debug_image = image.copy()\n",
    "    cv2.rectangle(debug_image, (x, y), (x + w, y + h), (0, 255, 0), 2)  # Bicchiere\n",
    "    cv2.rectangle(debug_image, (x, y + liquid_y), (x + w, y + liquid_y + liquid_h), (255, 0, 0), 2)  # Liquido\n",
    "\n",
    "    # Mostra l'immagine per il debug\n",
    "    width = int(debug_image.shape[1] * 0.25)\n",
    "    height = int(debug_image.shape[0] * 0.25)\n",
    "    debug_image = cv2.resize(debug_image, (width, height))\n",
    "    cv2.imwrite(f'out/degub-{debug_name}', debug_image)\n",
    "\n",
    "    return liquid_height_cm\n",
    "\n",
    "# Percorso immagine\n",
    "image_path = \"images/A-A.jpg\"\n",
    "\n",
    "# Calcola l'altezza del liquido\n",
    "try:\n",
    "    image = cv2.imread(image_path)\n",
    "    liquid_height = find_liquid_height(image)\n",
    "    print(f\"Altezza del liquido: {liquid_height:.2f} cm\")\n",
    "except Exception as e:\n",
    "    print(f\"Errore: {e}\")\n"
   ]
  },
  {
   "cell_type": "markdown",
   "metadata": {},
   "source": [
    "FUSION"
   ]
  },
  {
   "cell_type": "code",
   "execution_count": 89,
   "metadata": {},
   "outputs": [
    {
     "name": "stdout",
     "output_type": "stream",
     "text": [
      "Altezza del liquido in A-A.jpg: 37.0 mm\n",
      "Altezza del liquido in A-C.jpg: 53.0 mm\n",
      "Altezza del liquido in A-F.jpg: 28.0 mm\n",
      "Altezza del liquido in B-A.jpg: 58.0 mm\n",
      "Altezza del liquido in B-C.jpg: 59.0 mm\n",
      "Altezza del liquido in B-F.jpg: 27.0 mm\n",
      "Altezza del liquido in C-A.jpg: 53.0 mm\n",
      "Altezza del liquido in C-C.jpg: 65.0 mm\n",
      "Altezza del liquido in C-F.jpg: 37.0 mm\n"
     ]
    }
   ],
   "source": [
    "import re\n",
    "from utils import get_glass_height_cm\n",
    "\n",
    "filelist = glob.glob(\"images/?-?.jpg\")\n",
    "\n",
    "for file in filelist:\n",
    "    # Percorso immagine\n",
    "    tipe = re.search('([A-C]?)-[A-C]?', file).group(1)\n",
    "    height = get_glass_height_cm(tipe)\n",
    "\n",
    "    img = cv2.imread(file)\n",
    "    h, w = img.shape[:2]\n",
    "    newcameramtx, roi = cv2.getOptimalNewCameraMatrix(mtx, dist, (w,h), 1, (w,h))\n",
    "    # undistort\n",
    "    dst = cv2.undistort(img, mtx, dist, None, newcameramtx)\n",
    "    # crop the image\n",
    "    x, y, w, h = roi\n",
    "    dst = dst[y:y+h, x:x+w]\n",
    "    \n",
    "    # Taglia il bordo del tavolo\n",
    "    # xcrop = 500\n",
    "    # ycrop = 150\n",
    "    #dst = dst[y+ycrop:y+h-ycrop, x+xcrop:x+w-xcrop]\n",
    "    cv2.imwrite(f'out/calib-{ospath.basename(file)}', dst)\n",
    "\n",
    "    # Calcola l'altezza del liquido\n",
    "    try:\n",
    "        liquid_height = find_liquid_height(img, debug_name=ospath.basename(file), glass_height_cm=height)\n",
    "        print(f\"Altezza del liquido in {ospath.basename(file)}: {round(liquid_height*10, 0)} mm\")\n",
    "    except Exception as e:\n",
    "        print(f\"Errore: {e}\")"
   ]
  }
 ],
 "metadata": {
  "kernelspec": {
   "display_name": "venv",
   "language": "python",
   "name": "python3"
  },
  "language_info": {
   "codemirror_mode": {
    "name": "ipython",
    "version": 3
   },
   "file_extension": ".py",
   "mimetype": "text/x-python",
   "name": "python",
   "nbconvert_exporter": "python",
   "pygments_lexer": "ipython3",
   "version": "3.13.1"
  }
 },
 "nbformat": 4,
 "nbformat_minor": 2
}
